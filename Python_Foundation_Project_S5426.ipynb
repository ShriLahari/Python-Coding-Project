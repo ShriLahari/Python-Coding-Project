{
  "nbformat": 4,
  "nbformat_minor": 0,
  "metadata": {
    "colab": {
      "provenance": []
    },
    "kernelspec": {
      "name": "python3",
      "display_name": "Python 3"
    },
    "language_info": {
      "name": "python"
    }
  },
  "cells": [
    {
      "cell_type": "code",
      "execution_count": 8,
      "metadata": {
        "colab": {
          "base_uri": "https://localhost:8080/"
        },
        "id": "jArDx0GRJJ2Q",
        "outputId": "9e6f82c3-1d63-4025-aeb6-f81e2d80bb7e"
      },
      "outputs": [
        {
          "output_type": "stream",
          "name": "stdout",
          "text": [
            "Mahesh in list1 and Mahesh in list 2 are the common people\n",
            "Ali in list1 and Ali in list 2 are the common people\n",
            "Jacob in list1 and Jacob in list 2 are the common people\n"
          ]
        }
      ],
      "source": [
        "'''Q1) Employees’ names in list 1 are Ramesh, Suresh, Mahesh, Ali, Jacob, and Saritha. List 2 contains the names of Ali, Mukesh, Mahesh, Jacob, Sai, and Sarita.\n",
        "Please write a program that helps to identify people who are common in both lists. Please do not use any in-built function.'''\n",
        "\n",
        "list1=[\"Ramesh\", \"Suresh\", \"Mahesh\", \"Ali\", \"Jacob\", \"Saritha\"]\n",
        "list2=[\"Ali\", \"Mukesh\", \"Mahesh\", \"Jacob\", \"Sai\", \"Sarita\"]\n",
        "\n",
        "for i in list1:\n",
        "  for j in list2:\n",
        "    if i==j:\n",
        "      print(i,\"in list1 and\",j,\"in list 2\", \"are the common people\")\n",
        "# else:\n",
        "  # print(\"No common people found\")"
      ]
    },
    {
      "cell_type": "code",
      "source": [
        "'''Q2) While entering data, someone entered a few names as a common string “Ramesh Suresh Mohit”. Please write a program which separates\n",
        "all the names and converts them into a list. Once converted into a list, please write a program that adds their age.\n",
        "Ramesh:  25\n",
        "Suresh: 22\n",
        "Mohit: 26'''\n",
        "\n",
        "string1=\"Ramesh Suresh Mohit\"\n",
        "string2 = string1.split()\n",
        "\n",
        "Name_list = list(string2)              # converting the string into a list\n",
        "print(\"Names list is \",Name_list)\n",
        "Age_list=[25,22,26]\n",
        "\n",
        "for i,j in zip(Name_list,Age_list):    # To display the names of persons with respective ages\n",
        "  print(i,\":\",j)"
      ],
      "metadata": {
        "colab": {
          "base_uri": "https://localhost:8080/"
        },
        "id": "4CsDStsOLSPg",
        "outputId": "80c51c18-8ec3-48d3-b6f6-51c949e64758"
      },
      "execution_count": 24,
      "outputs": [
        {
          "output_type": "stream",
          "name": "stdout",
          "text": [
            "Names list is  ['Ramesh', 'Suresh', 'Mohit']\n",
            "Ramesh : 25\n",
            "Suresh : 22\n",
            "Mohit : 26\n"
          ]
        }
      ]
    },
    {
      "cell_type": "code",
      "source": [
        "'''Q3) You are working in a medical store. A patient came to your medical store and asked to buy 2 strips of paracetamol, 3 strips of azithromycin,\n",
        "and 5 strips of Vitamin C. One strip of paracetamol costs Rs 35, one strip of azithromycin costs Rs 49, and one strip of vitamin c costs Rs. 33.\n",
        "Patient gave you Rs 2000. Please tell us what is the total cost of each medicine, the total cost of all medicine, and how much money you refunded to the patient.'''\n",
        "\n",
        "Paracetamol= 35\n",
        "Azithro=49\n",
        "VitC=33\n",
        "\n",
        "Total_Price = 2*Paracetamol + 3*Azithro + 5*VitC\n",
        "print(\"Cost_Paracetamol = \",2*Paracetamol,\"\\nCost_Azithro = \",3*Azithro,\"\\nCost_VitC = \",5*VitC )\n",
        "print(\"Total_Price =\",Total_Price,\"Rupees\")\n",
        "print(\"Patient gave\",2000,\"Rupees\")\n",
        "\n",
        "print(\"Money refunded to the patient =\",(2000-Total_Price),\"Rupees\")\n"
      ],
      "metadata": {
        "colab": {
          "base_uri": "https://localhost:8080/"
        },
        "id": "DgwDzjwFNa_u",
        "outputId": "b2f96208-53ba-4ade-f8c9-e1196fc40128"
      },
      "execution_count": 30,
      "outputs": [
        {
          "output_type": "stream",
          "name": "stdout",
          "text": [
            "Cost_Paracetamol =  70 \n",
            "Cost_Azithro =  147 \n",
            "Cost_VitC =  165\n",
            "Total_Price = 382 Rupees\n",
            "Patient gave 2000 Rupees\n",
            "Money refunded to the patient = 1618 Rupees\n"
          ]
        }
      ]
    },
    {
      "cell_type": "code",
      "source": [
        "'''Q4) Accept a sentence as input and find the number of vowels in it. Assume that the sentence has no punctuation marks.\n",
        "For example, I am learning python contains 6 vowels. This function should be applicable for all other different sentences.'''\n",
        "\n",
        "count=0\n",
        "any_string=input(\"Enter any string :\")\n",
        "\n",
        "for i in any_string:\n",
        "  if i in 'aeiouAEIOU':\n",
        "    count+=1\n",
        "print(\"The number of vowels is:\",count)"
      ],
      "metadata": {
        "colab": {
          "base_uri": "https://localhost:8080/"
        },
        "id": "xf_5_4CYR_8S",
        "outputId": "b290a72d-4454-4b29-a081-c80e366b23c4"
      },
      "execution_count": 42,
      "outputs": [
        {
          "output_type": "stream",
          "name": "stdout",
          "text": [
            "Enter any string :I am learning python\n",
            "The number of vowels is: 6\n"
          ]
        }
      ]
    },
    {
      "cell_type": "code",
      "source": [
        "'''Q5) You have been appointed by the election commission to create a website. Your first task is to work on a program which tells candidates\n",
        "if they are eligible for voting or not. If they are eligible, your output should be ‘Congrats! You are eligible’;\n",
        "otherwise, it should tell that you have to return after X number of years. The eligibility criteria for voting is 18 years. '''\n",
        "\n",
        "age = int(input(\"Enter your age :\"))\n",
        "\n",
        "if age >= 18:\n",
        "  print(\"‘Congrats! You are eligible’\")\n",
        "else:\n",
        "  print(\"Please return after\",(18-age),\"year/years\")\n"
      ],
      "metadata": {
        "colab": {
          "base_uri": "https://localhost:8080/"
        },
        "id": "0OwwQTtAUtHH",
        "outputId": "875b624e-e235-43bf-ba93-af3a6a55dd53"
      },
      "execution_count": 1,
      "outputs": [
        {
          "output_type": "stream",
          "name": "stdout",
          "text": [
            "Enter your age :13\n",
            "Please return after 5 year/years\n"
          ]
        }
      ]
    },
    {
      "cell_type": "code",
      "source": [
        "'''Q6) Given a list of integers, find the cumulative sum of the elements of the list and store them in another list.\n",
        "A = [1, 2, 3, 4, 5]'''\n",
        "\n",
        "A = [1, 2, 3, 4, 5]\n",
        "\n",
        "CS_list=[]             # Creating a new list to store Cumulative sum values\n",
        "count=0\n",
        "\n",
        "for i in A:\n",
        "  count = count+i\n",
        "  CS_list.append(count)\n",
        "\n",
        "print(\"The cumulative sum is:\",CS_list)\n",
        "\n"
      ],
      "metadata": {
        "colab": {
          "base_uri": "https://localhost:8080/"
        },
        "id": "044wHaiuWxui",
        "outputId": "68870b3d-f490-403b-8827-6fa5bfa84b58"
      },
      "execution_count": 3,
      "outputs": [
        {
          "output_type": "stream",
          "name": "stdout",
          "text": [
            "The cumulative sum is: [1, 3, 6, 10, 15]\n"
          ]
        }
      ]
    },
    {
      "cell_type": "code",
      "source": [
        "'''Q7) WAP to encode a message entered by user as per below conditions: for every word in the sentence,\n",
        "1. If the word starts with a vowel, encode it as the first and last letter of the word.\n",
        "2. If the word starts with a consonant, remove all vowels from it.\n",
        "Ensure the case insensitive comparisons/checks are performed.\n",
        "\n",
        "Please enter your text:The quick brown fox used to sleep inside this box\n",
        "Encoded Msg: Th qck brwn fx ud t slp ie ths bx'''\n",
        "\n",
        "text = input(\"Please enter your text: \")\n",
        "enc_text = \"\"\n",
        "c=0\n",
        "\n",
        "for i in range(len(text)):\n",
        "    if text[i] in 'aeiouAEIOU':\n",
        "      enc_text = text[i]\n",
        "else:\n",
        "      text = \"\" + text[i]\n",
        "\n",
        "print(enc_text)\n"
      ],
      "metadata": {
        "colab": {
          "base_uri": "https://localhost:8080/"
        },
        "id": "khUW_d3xafqu",
        "outputId": "d8915233-c740-4998-ef0d-84381c995dcc"
      },
      "execution_count": 33,
      "outputs": [
        {
          "output_type": "stream",
          "name": "stdout",
          "text": [
            "Please enter your text: The quick brown fox used to sleep inside this box\n",
            "o\n"
          ]
        }
      ]
    },
    {
      "cell_type": "code",
      "source": [
        "'''Q8) Write a program to implement run length encoding of a string\n",
        "RLE:Consecutive repetition of a character has to be replaced with the count of occurrences and the character.\n",
        "\n",
        "Enter your string :aabbbccdddae\n",
        "Encoded: 2a3b2c3d1a1e '''\n",
        "\n",
        "\n",
        "st=input(\"Enter your string :\")\n",
        "def printRLE(st):\n",
        "\n",
        "    n = len(st)\n",
        "    i = 0\n",
        "    while i < n- 1:\n",
        " # Count occurrences of current character\n",
        "        count = 1\n",
        "        while (i < n - 1 and\n",
        "               st[i] == st[i + 1]):\n",
        "            count += 1\n",
        "            i += 1\n",
        "        i += 1\n",
        "\n",
        "        # Print character and its count\n",
        "\n",
        "        print(str(count)+st[i - 1],\n",
        "              end = \"\")\n",
        "\n",
        "# Driver code\n",
        "if __name__ == \"__main__\":\n",
        "\n",
        "    # st = \"aabbbccdddae\"\n",
        "    print(\"Encoded :\",end=\" \")\n",
        "    printRLE(st)"
      ],
      "metadata": {
        "colab": {
          "base_uri": "https://localhost:8080/"
        },
        "id": "clGKFoydlY1t",
        "outputId": "2de455cb-64db-4c8d-a540-81e8f142a8d3"
      },
      "execution_count": 23,
      "outputs": [
        {
          "output_type": "stream",
          "name": "stdout",
          "text": [
            "Enter your string :aabbbccdddae\n",
            "Encoded : 2a3b2c3d1a"
          ]
        }
      ]
    }
  ]
}